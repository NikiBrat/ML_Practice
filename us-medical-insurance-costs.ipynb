{
 "cells": [
  {
   "cell_type": "markdown",
   "metadata": {},
   "source": [
    "# U.S. Medical Insurance Costs"
   ]
  },
  {
   "cell_type": "markdown",
   "metadata": {},
   "source": [
    "Today we will investigate people who smoke and ex smokers and conduct analysis about their lifes, regions and age.\n",
    "\n",
    "\n",
    "- We will determine what is the total cost of insurance for people who live in some specific region.\n"
   ]
  },
  {
   "cell_type": "code",
   "execution_count": 57,
   "metadata": {},
   "outputs": [
    {
     "name": "stdout",
     "output_type": "stream",
     "text": [
      "The total cost of each region is: North-West: 4035711.9965399993, for North-East is: 4343668.583308999, for South-West is: 4012754.647620001 and for South-East is: 5363689.763290002\n",
      "The region is southeast with heighest cost which is: 5363689.763290002\n"
     ]
    }
   ],
   "source": [
    "import csv \n",
    "\n",
    "age = []\n",
    "bmi = []\n",
    "children = []\n",
    "region = []\n",
    "sex = []\n",
    "charges = []\n",
    "smoker = []\n",
    "file = \"C:/Users/nikol/Downloads/python-portfolio-project-starter-files/insurance.csv\"\n",
    "\n",
    "def AnalayzeHelper(lst, file, column):\n",
    "    with open(file) as insurance:\n",
    "        dict = csv.DictReader(insurance)\n",
    "        for i in dict:\n",
    "            lst.append(i[column])\n",
    "\n",
    "    return lst\n",
    "\n",
    "age = AnalayzeHelper(age, file, \"age\")\n",
    "bmi = AnalayzeHelper(bmi, file, \"bmi\")  \n",
    "children = AnalayzeHelper(children, file, \"children\")  \n",
    "region = AnalayzeHelper(region, file, \"region\")  \n",
    "sex = AnalayzeHelper(sex, file, \"sex\")  \n",
    "charges = AnalayzeHelper(charges, file, \"charges\")\n",
    "smoker = AnalayzeHelper(smoker, file, \"smoker\")\n",
    "\n",
    "def AnalayzeRegion(region, charges):\n",
    "    \n",
    "    cost1 = 0\n",
    "    cost2 = 0\n",
    "    cost3 = 0\n",
    "    cost4 = 0\n",
    "    \n",
    "    totalPerRegion = [cost1, cost2, cost3, cost4]\n",
    "    \n",
    "    for i in range(len(region)):\n",
    "        #print(region[i])\n",
    "        if region[i] == 'southwest':\n",
    "            cost1 += float(charges[i])\n",
    "            #print(cost1)\n",
    "            totalPerRegion[0] = cost1\n",
    "        elif region[i] == 'southeast':\n",
    "            cost2 += float(charges[i]) \n",
    "            totalPerRegion[1] = cost2\n",
    "        elif region[i] == 'northwest':\n",
    "            cost3 += float(charges[i]) \n",
    "            totalPerRegion[2] = cost3\n",
    "        elif region[i] == 'northeast':\n",
    "            cost4 += float(charges[i]) \n",
    "            totalPerRegion[3] = cost4\n",
    "\n",
    "    max = 0\n",
    "    regName = ''    \n",
    "    for i in range(len(totalPerRegion)):\n",
    "        #print(totalPerRegion[i])\n",
    "        #cost = \n",
    "        if totalPerRegion[i] > max:\n",
    "            max = totalPerRegion[i]\n",
    "            #print(region[i])\n",
    "            regName = region[i] \n",
    "     \n",
    "    print(\"The total cost of each region is: North-West: \"+ str(totalPerRegion[2])+ \", for North-East is: \"+str( totalPerRegion[3])\n",
    "          + \", for South-West is: \"+str(totalPerRegion[0])+ \" and for South-East is: \"+str(totalPerRegion[1]))\n",
    "    print(f\"The region is {regName} with heighest cost which is: \"+str(max))\n",
    "\n",
    "AnalayzeRegion(region, charges)\n",
    "    \n",
    "    "
   ]
  },
  {
   "cell_type": "markdown",
   "metadata": {},
   "source": [
    "- Youngsters will be analayzied also to determine if they have kids and what is the cost for people who are below 20 years old. But we will try to determine who has higher average cost between smokers and non-smokers.\n",
    "  "
   ]
  },
  {
   "cell_type": "code",
   "execution_count": 68,
   "metadata": {},
   "outputs": [
    {
     "name": "stdout",
     "output_type": "stream",
     "text": [
      "The data below is for people who are 20 or less years old and who have kids. \n",
      "    Some of them might be smokers so we included also that data to have more concise representation. \n",
      "\n",
      "Smokers have higher insurance cost and it is: 24583.878370000002\n",
      "\n",
      "Total insurance for smokers is: 245838.78370000003 and for non-smokers is: 201563.03436000002\n",
      "\n"
     ]
    }
   ],
   "source": [
    "import csv \n",
    "\n",
    "age = []\n",
    "bmi = []\n",
    "children = []\n",
    "region = []\n",
    "sex = []\n",
    "charges = []\n",
    "smoker = []\n",
    "file = \"C:/Users/nikol/Downloads/python-portfolio-project-starter-files/insurance.csv\"\n",
    "\n",
    "def AnalayzeHelper(lst, file, column):\n",
    "    with open(file) as insurance:\n",
    "        dict = csv.DictReader(insurance)\n",
    "        for i in dict:\n",
    "            lst.append(i[column])\n",
    "\n",
    "    return lst\n",
    "\n",
    "age = AnalayzeHelper(age, file, \"age\")\n",
    "bmi = AnalayzeHelper(bmi, file, \"bmi\")  \n",
    "children = AnalayzeHelper(children, file, \"children\")  \n",
    "region = AnalayzeHelper(region, file, \"region\")  \n",
    "sex = AnalayzeHelper(sex, file, \"sex\")  \n",
    "charges = AnalayzeHelper(charges, file, \"charges\")\n",
    "smoker = AnalayzeHelper(smoker, file, \"smoker\")\n",
    "\n",
    "\n",
    "def AnalayzeYoungsters(age, children, charges, smoker):\n",
    "    avgInsuranceSmo = 0\n",
    "    avgInsuranceNon = 0\n",
    "    totalSmo = 0\n",
    "    totalNon = 0\n",
    "    countSmo = 0\n",
    "    countNon = 0\n",
    "    \n",
    "    for i in range(len(age)):\n",
    "        if smoker[i] == 'yes':\n",
    "            if int(age[i]) <= 20 and int(children[i]) > 0:\n",
    "                totalSmo += float(charges[i])\n",
    "                countSmo += 1\n",
    "        else:\n",
    "            if int(age[i]) <= 20 and int(children[i]) > 0:\n",
    "                totalNon += float(charges[i])\n",
    "                countNon += 1\n",
    "\n",
    "    avgInsuranceSmo = totalSmo / countSmo\n",
    "    avgInsuranceNon = totalNon / countNon\n",
    "\n",
    "    print(\"\"\"The data below is for people who are 20 or less years old and who have kids. \n",
    "    Some of them might be smokers so we included also that data to have more concise representation. \\n\"\"\")\n",
    "\n",
    "    if avgInsuranceSmo > avgInsuranceNon:\n",
    "        print(f\"Smokers have higher insurance cost and it is: {avgInsuranceSmo}\\n\")\n",
    "    else:\n",
    "        print(f\"Non-Smokers have higher insurance cost and it is: {avgInsuranceSmo}\\n\")\n",
    "\n",
    "    print(f\"Total insurance for smokers is: {totalSmo} and for non-smokers is: {totalNon}\\n\")\n",
    "              \n",
    "AnalayzeYoungsters(age, children, charges, smoker)"
   ]
  }
 ],
 "metadata": {
  "kernelspec": {
   "display_name": "Python 3 (ipykernel)",
   "language": "python",
   "name": "python3"
  },
  "language_info": {
   "codemirror_mode": {
    "name": "ipython",
    "version": 3
   },
   "file_extension": ".py",
   "mimetype": "text/x-python",
   "name": "python",
   "nbconvert_exporter": "python",
   "pygments_lexer": "ipython3",
   "version": "3.12.4"
  }
 },
 "nbformat": 4,
 "nbformat_minor": 4
}
